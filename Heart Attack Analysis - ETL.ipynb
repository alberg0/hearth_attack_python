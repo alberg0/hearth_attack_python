{
 "cells": [
  {
   "cell_type": "markdown",
   "metadata": {
    "application/vnd.databricks.v1+cell": {
     "cellMetadata": {
      "byteLimit": 2048000,
      "rowLimit": 10000
     },
     "inputWidgets": {},
     "nuid": "96816ed7-b08a-4ca3-abb9-f99880c3535d",
     "showTitle": false,
     "title": ""
    }
   },
   "source": [
    "\n",
    "## Problem statement and Overview\n",
    "\n",
    "[Data Source](https://www.kaggle.com/fedesoriano/stroke-prediction-dataset)\n",
    "\n",
    "The dataset stores information about 5000 people that have been surveyed about their demographics, biologic parameter and behaviours. We will use this data to gain insights about the factors that influence the probability of having a Heart Attack. \n",
    "\n",
    "###### This notebook is structured as follows: \n",
    "- Data Extraction and Exploration: we will observe the data, trying to gather an idea of the variables and their distributions\n",
    "- Data Transformation: we will fill missing values and rescale our variables in a more model-oriented form\n",
    "- Data Modelling: A Linear and a Tree-based classifiers will be fitted, in order to assess what are the features that mostly influence the target variable (and their significance) \n",
    "- Final Visualization: Loading transformed and visualizing some of the insights gained during the research"
   ]
  },
  {
   "cell_type": "markdown",
   "metadata": {
    "application/vnd.databricks.v1+cell": {
     "cellMetadata": {
      "byteLimit": 2048000,
      "rowLimit": 10000
     },
     "inputWidgets": {},
     "nuid": "1e18d4e8-491e-4ecf-986d-ebf58c30f4b1",
     "showTitle": false,
     "title": ""
    }
   },
   "source": [
    "\n",
    "#### Data Exploration\n",
    "\n",
    "A simple look at the data, to visualize feature distribution and basic statistics"
   ]
  },
  {
   "cell_type": "code",
   "execution_count": 0,
   "metadata": {
    "application/vnd.databricks.v1+cell": {
     "cellMetadata": {
      "byteLimit": 2048000,
      "rowLimit": 10000
     },
     "inputWidgets": {},
     "nuid": "6482be4c-f067-47c9-b0ac-35c938b94601",
     "showTitle": false,
     "title": ""
    }
   },
   "outputs": [
    {
     "output_type": "stream",
     "name": "stdout",
     "output_type": "stream",
     "text": [
      "+-----+------+---+------------+-------------+------------+-------------+--------------+-----------------+----+---------------+------+\n|   id|gender|age|hypertension|heart_disease|ever_married|    work_type|Residence_type|avg_glucose_level| bmi| smoking_status|stroke|\n+-----+------+---+------------+-------------+------------+-------------+--------------+-----------------+----+---------------+------+\n| 9046|  Male| 67|           0|            1|         Yes|      Private|         Urban|           228.69|36.6|formerly smoked|     1|\n|51676|Female| 61|           0|            0|         Yes|Self-employed|         Rural|           202.21| N/A|   never smoked|     1|\n|31112|  Male| 80|           0|            1|         Yes|      Private|         Rural|           105.92|32.5|   never smoked|     1|\n|60182|Female| 49|           0|            0|         Yes|      Private|         Urban|           171.23|34.4|         smokes|     1|\n| 1665|Female| 79|           1|            0|         Yes|Self-employed|         Rural|           174.12|  24|   never smoked|     1|\n+-----+------+---+------------+-------------+------------+-------------+--------------+-----------------+----+---------------+------+\nonly showing top 5 rows\n\n"
     ]
    }
   ],
   "source": [
    "# File location and type\n",
    "file_location = \"/FileStore/tables/healthcare_dataset_stroke_data.csv\"\n",
    "file_type = \"csv\"\n",
    "\n",
    "# CSV options\n",
    "infer_schema = \"false\"\n",
    "first_row_is_header = \"true\"\n",
    "delimiter = \",\"\n",
    "\n",
    "# The applied options are for CSV files. For other file types, these will be ignored.\n",
    "df = spark.read.format(file_type) \\\n",
    "  .option(\"inferSchema\", infer_schema) \\\n",
    "  .option(\"header\", first_row_is_header) \\\n",
    "  .option(\"sep\", delimiter) \\\n",
    "  .load(file_location)\n",
    "\n",
    "#Displaying a portion of the DataFrame\n",
    "df.show(5)\n",
    "#NaN encoded as strings -> we need to transform them. \n"
   ]
  },
  {
   "cell_type": "code",
   "execution_count": 0,
   "metadata": {
    "application/vnd.databricks.v1+cell": {
     "cellMetadata": {
      "byteLimit": 2048000,
      "rowLimit": 10000
     },
     "inputWidgets": {},
     "nuid": "7c199ffa-62d0-4180-948a-afb6b06b0dc0",
     "showTitle": false,
     "title": ""
    }
   },
   "outputs": [
    {
     "output_type": "display_data",
     "data": {
      "text/html": [
       "<div>\n",
       "<style scoped>\n",
       "    .dataframe tbody tr th:only-of-type {\n",
       "        vertical-align: middle;\n",
       "    }\n",
       "\n",
       "    .dataframe tbody tr th {\n",
       "        vertical-align: top;\n",
       "    }\n",
       "\n",
       "    .dataframe thead th {\n",
       "        text-align: right;\n",
       "    }\n",
       "</style>\n",
       "<table border=\"1\" class=\"dataframe\">\n",
       "  <thead>\n",
       "    <tr style=\"text-align: right;\">\n",
       "      <th></th>\n",
       "      <th>id</th>\n",
       "      <th>gender</th>\n",
       "      <th>age</th>\n",
       "      <th>hypertension</th>\n",
       "      <th>heart_disease</th>\n",
       "      <th>ever_married</th>\n",
       "      <th>work_type</th>\n",
       "      <th>Residence_type</th>\n",
       "      <th>avg_glucose_level</th>\n",
       "      <th>bmi</th>\n",
       "      <th>smoking_status</th>\n",
       "      <th>stroke</th>\n",
       "    </tr>\n",
       "  </thead>\n",
       "  <tbody>\n",
       "    <tr>\n",
       "      <th>count</th>\n",
       "      <td>5110</td>\n",
       "      <td>5110</td>\n",
       "      <td>5110</td>\n",
       "      <td>5110</td>\n",
       "      <td>5110</td>\n",
       "      <td>5110</td>\n",
       "      <td>5110</td>\n",
       "      <td>5110</td>\n",
       "      <td>5110</td>\n",
       "      <td>5110</td>\n",
       "      <td>5110</td>\n",
       "      <td>5110</td>\n",
       "    </tr>\n",
       "    <tr>\n",
       "      <th>unique</th>\n",
       "      <td>5110</td>\n",
       "      <td>3</td>\n",
       "      <td>104</td>\n",
       "      <td>2</td>\n",
       "      <td>2</td>\n",
       "      <td>2</td>\n",
       "      <td>5</td>\n",
       "      <td>2</td>\n",
       "      <td>3979</td>\n",
       "      <td>419</td>\n",
       "      <td>4</td>\n",
       "      <td>2</td>\n",
       "    </tr>\n",
       "    <tr>\n",
       "      <th>top</th>\n",
       "      <td>9046</td>\n",
       "      <td>Female</td>\n",
       "      <td>78</td>\n",
       "      <td>0</td>\n",
       "      <td>0</td>\n",
       "      <td>Yes</td>\n",
       "      <td>Private</td>\n",
       "      <td>Urban</td>\n",
       "      <td>93.88</td>\n",
       "      <td>N/A</td>\n",
       "      <td>never smoked</td>\n",
       "      <td>0</td>\n",
       "    </tr>\n",
       "    <tr>\n",
       "      <th>freq</th>\n",
       "      <td>1</td>\n",
       "      <td>2994</td>\n",
       "      <td>102</td>\n",
       "      <td>4612</td>\n",
       "      <td>4834</td>\n",
       "      <td>3353</td>\n",
       "      <td>2925</td>\n",
       "      <td>2596</td>\n",
       "      <td>6</td>\n",
       "      <td>201</td>\n",
       "      <td>1892</td>\n",
       "      <td>4861</td>\n",
       "    </tr>\n",
       "  </tbody>\n",
       "</table>\n",
       "</div>"
      ]
     },
     "metadata": {
      "application/vnd.databricks.v1+output": {
       "addedWidgets": {},
       "arguments": {},
       "data": "<div>\n<style scoped>\n    .dataframe tbody tr th:only-of-type {\n        vertical-align: middle;\n    }\n\n    .dataframe tbody tr th {\n        vertical-align: top;\n    }\n\n    .dataframe thead th {\n        text-align: right;\n    }\n</style>\n<table border=\"1\" class=\"dataframe\">\n  <thead>\n    <tr style=\"text-align: right;\">\n      <th></th>\n      <th>id</th>\n      <th>gender</th>\n      <th>age</th>\n      <th>hypertension</th>\n      <th>heart_disease</th>\n      <th>ever_married</th>\n      <th>work_type</th>\n      <th>Residence_type</th>\n      <th>avg_glucose_level</th>\n      <th>bmi</th>\n      <th>smoking_status</th>\n      <th>stroke</th>\n    </tr>\n  </thead>\n  <tbody>\n    <tr>\n      <th>count</th>\n      <td>5110</td>\n      <td>5110</td>\n      <td>5110</td>\n      <td>5110</td>\n      <td>5110</td>\n      <td>5110</td>\n      <td>5110</td>\n      <td>5110</td>\n      <td>5110</td>\n      <td>5110</td>\n      <td>5110</td>\n      <td>5110</td>\n    </tr>\n    <tr>\n      <th>unique</th>\n      <td>5110</td>\n      <td>3</td>\n      <td>104</td>\n      <td>2</td>\n      <td>2</td>\n      <td>2</td>\n      <td>5</td>\n      <td>2</td>\n      <td>3979</td>\n      <td>419</td>\n      <td>4</td>\n      <td>2</td>\n    </tr>\n    <tr>\n      <th>top</th>\n      <td>9046</td>\n      <td>Female</td>\n      <td>78</td>\n      <td>0</td>\n      <td>0</td>\n      <td>Yes</td>\n      <td>Private</td>\n      <td>Urban</td>\n      <td>93.88</td>\n      <td>N/A</td>\n      <td>never smoked</td>\n      <td>0</td>\n    </tr>\n    <tr>\n      <th>freq</th>\n      <td>1</td>\n      <td>2994</td>\n      <td>102</td>\n      <td>4612</td>\n      <td>4834</td>\n      <td>3353</td>\n      <td>2925</td>\n      <td>2596</td>\n      <td>6</td>\n      <td>201</td>\n      <td>1892</td>\n      <td>4861</td>\n    </tr>\n  </tbody>\n</table>\n</div>",
       "datasetInfos": [],
       "metadata": {},
       "removedWidgets": [],
       "textData": null,
       "type": "htmlSandbox"
      }
     },
     "output_type": "display_data"
    }
   ],
   "source": [
    "# Describing the DF\n",
    "# Getting unique values for each column. Can we dichotimize any variables? \n",
    "pdf = df.select('*').toPandas()\n",
    "\n",
    "pdf.describe()\n",
    "\n",
    "# AGE: has 104 unique values \n",
    "# BMI has mode = NULL"
   ]
  },
  {
   "cell_type": "code",
   "execution_count": 0,
   "metadata": {
    "application/vnd.databricks.v1+cell": {
     "cellMetadata": {
      "byteLimit": 2048000,
      "rowLimit": 10000
     },
     "inputWidgets": {},
     "nuid": "b57a48f9-83d8-488b-bece-7a9457a089c2",
     "showTitle": false,
     "title": ""
    }
   },
   "outputs": [
    {
     "output_type": "display_data",
     "data": {
      "text/html": [
       "<style scoped>\n",
       "  .table-result-container {\n",
       "    max-height: 300px;\n",
       "    overflow: auto;\n",
       "  }\n",
       "  table, th, td {\n",
       "    border: 1px solid black;\n",
       "    border-collapse: collapse;\n",
       "  }\n",
       "  th, td {\n",
       "    padding: 5px;\n",
       "  }\n",
       "  th {\n",
       "    text-align: left;\n",
       "  }\n",
       "</style><div class='table-result-container'><table class='table-result'><thead style='background-color: white'><tr><th>stroke</th><th>count</th></tr></thead><tbody><tr><td>0</td><td>4861</td></tr><tr><td>1</td><td>249</td></tr></tbody></table></div>"
      ]
     },
     "metadata": {
      "application/vnd.databricks.v1+output": {
       "addedWidgets": {},
       "aggData": [],
       "aggError": "",
       "aggOverflow": false,
       "aggSchema": [],
       "aggSeriesLimitReached": false,
       "aggType": "",
       "arguments": {},
       "columnCustomDisplayInfos": {},
       "data": [
        [
         "0",
         4861
        ],
        [
         "1",
         249
        ]
       ],
       "datasetInfos": [],
       "dbfsResultPath": null,
       "isJsonSchema": true,
       "metadata": {},
       "overflow": false,
       "plotOptions": {
        "customPlotOptions": {
         "pieChart": [
          {
           "key": "donut",
           "value": true
          }
         ],
         "plotlyBar": [
          {
           "key": "grouped",
           "value": true
          },
          {
           "key": "stacked",
           "value": false
          },
          {
           "key": "100_stacked",
           "value": false
          }
         ]
        },
        "displayType": "pieChart",
        "pivotAggregation": "sum",
        "pivotColumns": [],
        "xColumns": [
         "stroke"
        ],
        "yColumns": [
         "count"
        ]
       },
       "removedWidgets": [],
       "schema": [
        {
         "metadata": "{}",
         "name": "stroke",
         "type": "\"string\""
        },
        {
         "metadata": "{}",
         "name": "count",
         "type": "\"long\""
        }
       ],
       "type": "table"
      }
     },
     "output_type": "display_data"
    }
   ],
   "source": [
    "# Describing Target variable\n",
    "display(df.groupBy(\"stroke\").count())"
   ]
  },
  {
   "cell_type": "code",
   "execution_count": 0,
   "metadata": {
    "application/vnd.databricks.v1+cell": {
     "cellMetadata": {
      "byteLimit": 2048000,
      "rowLimit": 10000
     },
     "inputWidgets": {},
     "nuid": "6ae4e490-2254-4927-8f62-68df9638a73c",
     "showTitle": false,
     "title": ""
    }
   },
   "outputs": [
    {
     "output_type": "display_data",
     "data": {
      "text/html": [
       "<style scoped>\n",
       "  .table-result-container {\n",
       "    max-height: 300px;\n",
       "    overflow: auto;\n",
       "  }\n",
       "  table, th, td {\n",
       "    border: 1px solid black;\n",
       "    border-collapse: collapse;\n",
       "  }\n",
       "  th, td {\n",
       "    padding: 5px;\n",
       "  }\n",
       "  th {\n",
       "    text-align: left;\n",
       "  }\n",
       "</style><div class='table-result-container'><table class='table-result'><thead style='background-color: white'><tr><th>gender</th><th>count</th></tr></thead><tbody><tr><td>Other</td><td>1</td></tr><tr><td>Male</td><td>2115</td></tr><tr><td>Female</td><td>2994</td></tr></tbody></table></div>"
      ]
     },
     "metadata": {
      "application/vnd.databricks.v1+output": {
       "addedWidgets": {},
       "aggData": [],
       "aggError": "",
       "aggOverflow": false,
       "aggSchema": [],
       "aggSeriesLimitReached": false,
       "aggType": "",
       "arguments": {},
       "columnCustomDisplayInfos": {},
       "data": [
        [
         "Other",
         1
        ],
        [
         "Male",
         2115
        ],
        [
         "Female",
         2994
        ]
       ],
       "datasetInfos": [],
       "dbfsResultPath": null,
       "isJsonSchema": true,
       "metadata": {},
       "overflow": false,
       "plotOptions": {
        "customPlotOptions": {
         "plotlyBar": [
          {
           "key": "grouped",
           "value": true
          },
          {
           "key": "stacked",
           "value": false
          },
          {
           "key": "100_stacked",
           "value": false
          }
         ]
        },
        "displayType": "plotlyBar",
        "pivotAggregation": "sum",
        "pivotColumns": [],
        "xColumns": [
         "gender"
        ],
        "yColumns": [
         "count"
        ]
       },
       "removedWidgets": [],
       "schema": [
        {
         "metadata": "{}",
         "name": "gender",
         "type": "\"string\""
        },
        {
         "metadata": "{}",
         "name": "count",
         "type": "\"long\""
        }
       ],
       "type": "table"
      }
     },
     "output_type": "display_data"
    }
   ],
   "source": [
    "# Collecting distinct values for variables with few categories -> Let's see if we can operate some transformations \n",
    "#GENDER\n",
    "display(df.groupBy(\"gender\").count().orderBy(\"count\"))\n",
    "# Can be approximated to a boolean "
   ]
  },
  {
   "cell_type": "code",
   "execution_count": 0,
   "metadata": {
    "application/vnd.databricks.v1+cell": {
     "cellMetadata": {
      "byteLimit": 2048000,
      "rowLimit": 10000
     },
     "inputWidgets": {},
     "nuid": "25e45ea4-079a-4162-9f62-4a9cf5b65953",
     "showTitle": false,
     "title": ""
    }
   },
   "outputs": [
    {
     "output_type": "display_data",
     "data": {
      "text/html": [
       "<style scoped>\n",
       "  .table-result-container {\n",
       "    max-height: 300px;\n",
       "    overflow: auto;\n",
       "  }\n",
       "  table, th, td {\n",
       "    border: 1px solid black;\n",
       "    border-collapse: collapse;\n",
       "  }\n",
       "  th, td {\n",
       "    padding: 5px;\n",
       "  }\n",
       "  th {\n",
       "    text-align: left;\n",
       "  }\n",
       "</style><div class='table-result-container'><table class='table-result'><thead style='background-color: white'><tr><th>smoking_status</th><th>count</th></tr></thead><tbody><tr><td>smokes</td><td>789</td></tr><tr><td>formerly smoked</td><td>885</td></tr><tr><td>Unknown</td><td>1544</td></tr><tr><td>never smoked</td><td>1892</td></tr></tbody></table></div>"
      ]
     },
     "metadata": {
      "application/vnd.databricks.v1+output": {
       "addedWidgets": {},
       "aggData": [],
       "aggError": "",
       "aggOverflow": false,
       "aggSchema": [],
       "aggSeriesLimitReached": false,
       "aggType": "",
       "arguments": {},
       "columnCustomDisplayInfos": {},
       "data": [
        [
         "smokes",
         789
        ],
        [
         "formerly smoked",
         885
        ],
        [
         "Unknown",
         1544
        ],
        [
         "never smoked",
         1892
        ]
       ],
       "datasetInfos": [],
       "dbfsResultPath": null,
       "isJsonSchema": true,
       "metadata": {},
       "overflow": false,
       "plotOptions": {
        "customPlotOptions": {},
        "displayType": "plotlyBar",
        "pivotAggregation": null,
        "pivotColumns": null,
        "xColumns": null,
        "yColumns": null
       },
       "removedWidgets": [],
       "schema": [
        {
         "metadata": "{}",
         "name": "smoking_status",
         "type": "\"string\""
        },
        {
         "metadata": "{}",
         "name": "count",
         "type": "\"long\""
        }
       ],
       "type": "table"
      }
     },
     "output_type": "display_data"
    }
   ],
   "source": [
    "# SMOKING STATUS\n",
    "display(df.groupBy(\"smoking_status\").count().orderBy(\"count\"))\n",
    "#Has null values encoded as \"unknown\" "
   ]
  },
  {
   "cell_type": "code",
   "execution_count": 0,
   "metadata": {
    "application/vnd.databricks.v1+cell": {
     "cellMetadata": {
      "byteLimit": 2048000,
      "rowLimit": 10000
     },
     "inputWidgets": {},
     "nuid": "403a4a73-9696-4b17-869a-651fa0dfe658",
     "showTitle": false,
     "title": ""
    }
   },
   "outputs": [
    {
     "output_type": "display_data",
     "data": {
      "text/html": [
       "<style scoped>\n",
       "  .table-result-container {\n",
       "    max-height: 300px;\n",
       "    overflow: auto;\n",
       "  }\n",
       "  table, th, td {\n",
       "    border: 1px solid black;\n",
       "    border-collapse: collapse;\n",
       "  }\n",
       "  th, td {\n",
       "    padding: 5px;\n",
       "  }\n",
       "  th {\n",
       "    text-align: left;\n",
       "  }\n",
       "</style><div class='table-result-container'><table class='table-result'><thead style='background-color: white'><tr><th>work_type</th><th>count</th></tr></thead><tbody><tr><td>Never_worked</td><td>22</td></tr><tr><td>Govt_job</td><td>657</td></tr><tr><td>children</td><td>687</td></tr><tr><td>Self-employed</td><td>819</td></tr><tr><td>Private</td><td>2925</td></tr></tbody></table></div>"
      ]
     },
     "metadata": {
      "application/vnd.databricks.v1+output": {
       "addedWidgets": {},
       "aggData": [],
       "aggError": "",
       "aggOverflow": false,
       "aggSchema": [],
       "aggSeriesLimitReached": false,
       "aggType": "",
       "arguments": {},
       "columnCustomDisplayInfos": {},
       "data": [
        [
         "Never_worked",
         22
        ],
        [
         "Govt_job",
         657
        ],
        [
         "children",
         687
        ],
        [
         "Self-employed",
         819
        ],
        [
         "Private",
         2925
        ]
       ],
       "datasetInfos": [],
       "dbfsResultPath": null,
       "isJsonSchema": true,
       "metadata": {},
       "overflow": false,
       "plotOptions": {
        "customPlotOptions": {},
        "displayType": "plotlyBar",
        "pivotAggregation": null,
        "pivotColumns": null,
        "xColumns": null,
        "yColumns": null
       },
       "removedWidgets": [],
       "schema": [
        {
         "metadata": "{}",
         "name": "work_type",
         "type": "\"string\""
        },
        {
         "metadata": "{}",
         "name": "count",
         "type": "\"long\""
        }
       ],
       "type": "table"
      }
     },
     "output_type": "display_data"
    }
   ],
   "source": [
    "# WORK_TYPE\n",
    "# SMOKING STATUS\n",
    "display(df.groupBy(\"work_type\").count().orderBy(\"count\"))\n",
    "#Has null values encoded as \"unknown\" \n",
    "# Can't really sort the values. It needs to stay a factor"
   ]
  },
  {
   "cell_type": "code",
   "execution_count": 0,
   "metadata": {
    "application/vnd.databricks.v1+cell": {
     "cellMetadata": {
      "byteLimit": 2048000,
      "rowLimit": 10000
     },
     "inputWidgets": {},
     "nuid": "ff86e234-e574-44d4-b5d5-786b21ad1b9c",
     "showTitle": false,
     "title": ""
    }
   },
   "outputs": [
    {
     "output_type": "display_data",
     "data": {
      "text/html": [
       "<div>\n",
       "<style scoped>\n",
       "    .dataframe tbody tr th:only-of-type {\n",
       "        vertical-align: middle;\n",
       "    }\n",
       "\n",
       "    .dataframe tbody tr th {\n",
       "        vertical-align: top;\n",
       "    }\n",
       "\n",
       "    .dataframe thead th {\n",
       "        text-align: right;\n",
       "    }\n",
       "</style>\n",
       "<table border=\"1\" class=\"dataframe\">\n",
       "  <thead>\n",
       "    <tr style=\"text-align: right;\">\n",
       "      <th></th>\n",
       "      <th>age</th>\n",
       "      <th>bmi</th>\n",
       "      <th>avg_glucose_level</th>\n",
       "    </tr>\n",
       "  </thead>\n",
       "  <tbody>\n",
       "    <tr>\n",
       "      <th>count</th>\n",
       "      <td>5110.000000</td>\n",
       "      <td>4909.000000</td>\n",
       "      <td>5110.000000</td>\n",
       "    </tr>\n",
       "    <tr>\n",
       "      <th>mean</th>\n",
       "      <td>43.226616</td>\n",
       "      <td>28.893234</td>\n",
       "      <td>106.147675</td>\n",
       "    </tr>\n",
       "    <tr>\n",
       "      <th>std</th>\n",
       "      <td>22.612646</td>\n",
       "      <td>7.854067</td>\n",
       "      <td>45.283562</td>\n",
       "    </tr>\n",
       "    <tr>\n",
       "      <th>min</th>\n",
       "      <td>0.080000</td>\n",
       "      <td>10.300000</td>\n",
       "      <td>55.119999</td>\n",
       "    </tr>\n",
       "    <tr>\n",
       "      <th>25%</th>\n",
       "      <td>25.000000</td>\n",
       "      <td>23.500000</td>\n",
       "      <td>77.244999</td>\n",
       "    </tr>\n",
       "    <tr>\n",
       "      <th>50%</th>\n",
       "      <td>45.000000</td>\n",
       "      <td>28.100000</td>\n",
       "      <td>91.884998</td>\n",
       "    </tr>\n",
       "    <tr>\n",
       "      <th>75%</th>\n",
       "      <td>61.000000</td>\n",
       "      <td>33.099998</td>\n",
       "      <td>114.089996</td>\n",
       "    </tr>\n",
       "    <tr>\n",
       "      <th>max</th>\n",
       "      <td>82.000000</td>\n",
       "      <td>97.599998</td>\n",
       "      <td>271.739990</td>\n",
       "    </tr>\n",
       "  </tbody>\n",
       "</table>\n",
       "</div>"
      ]
     },
     "metadata": {
      "application/vnd.databricks.v1+output": {
       "addedWidgets": {},
       "arguments": {},
       "data": "<div>\n<style scoped>\n    .dataframe tbody tr th:only-of-type {\n        vertical-align: middle;\n    }\n\n    .dataframe tbody tr th {\n        vertical-align: top;\n    }\n\n    .dataframe thead th {\n        text-align: right;\n    }\n</style>\n<table border=\"1\" class=\"dataframe\">\n  <thead>\n    <tr style=\"text-align: right;\">\n      <th></th>\n      <th>age</th>\n      <th>bmi</th>\n      <th>avg_glucose_level</th>\n    </tr>\n  </thead>\n  <tbody>\n    <tr>\n      <th>count</th>\n      <td>5110.000000</td>\n      <td>4909.000000</td>\n      <td>5110.000000</td>\n    </tr>\n    <tr>\n      <th>mean</th>\n      <td>43.226616</td>\n      <td>28.893234</td>\n      <td>106.147675</td>\n    </tr>\n    <tr>\n      <th>std</th>\n      <td>22.612646</td>\n      <td>7.854067</td>\n      <td>45.283562</td>\n    </tr>\n    <tr>\n      <th>min</th>\n      <td>0.080000</td>\n      <td>10.300000</td>\n      <td>55.119999</td>\n    </tr>\n    <tr>\n      <th>25%</th>\n      <td>25.000000</td>\n      <td>23.500000</td>\n      <td>77.244999</td>\n    </tr>\n    <tr>\n      <th>50%</th>\n      <td>45.000000</td>\n      <td>28.100000</td>\n      <td>91.884998</td>\n    </tr>\n    <tr>\n      <th>75%</th>\n      <td>61.000000</td>\n      <td>33.099998</td>\n      <td>114.089996</td>\n    </tr>\n    <tr>\n      <th>max</th>\n      <td>82.000000</td>\n      <td>97.599998</td>\n      <td>271.739990</td>\n    </tr>\n  </tbody>\n</table>\n</div>",
       "datasetInfos": [],
       "metadata": {},
       "removedWidgets": [],
       "textData": null,
       "type": "htmlSandbox"
      }
     },
     "output_type": "display_data"
    }
   ],
   "source": [
    "# Some troubles converting continuous variables with Python -> switching to sql\n",
    "# Creating a table\n",
    "temp_table_name = \"healthcare_dataset_stroke_data_csv\"\n",
    "\n",
    "df.createOrReplaceTempView(temp_table_name)\n",
    "temp_continuous = spark.sql(\"select age::float as age, nullif(bmi,'N/A')::float as bmi, avg_glucose_level::float as avg_glucose_level from healthcare_dataset_stroke_data_csv\").toPandas()\n",
    "temp_continuous.describe()\n",
    " \n",
    "#Age has decimal values\n",
    "#Glucose level looks concentrated around the mean, with a long right tail.\n",
    "#bmi looks gaussian, with a long right tail and several NULL values. "
   ]
  },
  {
   "cell_type": "code",
   "execution_count": 0,
   "metadata": {
    "application/vnd.databricks.v1+cell": {
     "cellMetadata": {
      "byteLimit": 2048000,
      "implicitDf": true,
      "rowLimit": 10000
     },
     "inputWidgets": {},
     "nuid": "7e9217af-6093-4265-849f-e7463bec3a10",
     "showTitle": false,
     "title": ""
    }
   },
   "outputs": [
    {
     "output_type": "display_data",
     "data": {
      "text/html": [
       "<style scoped>\n",
       "  .table-result-container {\n",
       "    max-height: 300px;\n",
       "    overflow: auto;\n",
       "  }\n",
       "  table, th, td {\n",
       "    border: 1px solid black;\n",
       "    border-collapse: collapse;\n",
       "  }\n",
       "  th, td {\n",
       "    padding: 5px;\n",
       "  }\n",
       "  th {\n",
       "    text-align: left;\n",
       "  }\n",
       "</style><div class='table-result-container'><table class='table-result'><thead style='background-color: white'><tr><th>age_bucket</th><th>absolute_frequence</th></tr></thead><tbody><tr><td>0.0</td><td>255</td></tr><tr><td>10.0</td><td>444</td></tr><tr><td>20.0</td><td>537</td></tr><tr><td>30.0</td><td>609</td></tr><tr><td>40.0</td><td>688</td></tr><tr><td>50.0</td><td>798</td></tr><tr><td>60.0</td><td>752</td></tr><tr><td>70.0</td><td>509</td></tr><tr><td>80.0</td><td>518</td></tr></tbody></table></div>"
      ]
     },
     "metadata": {
      "application/vnd.databricks.v1+output": {
       "addedWidgets": {},
       "aggData": [],
       "aggError": "",
       "aggOverflow": false,
       "aggSchema": [],
       "aggSeriesLimitReached": false,
       "aggType": "",
       "arguments": {},
       "columnCustomDisplayInfos": {},
       "data": [
        [
         0.0,
         255
        ],
        [
         10.0,
         444
        ],
        [
         20.0,
         537
        ],
        [
         30.0,
         609
        ],
        [
         40.0,
         688
        ],
        [
         50.0,
         798
        ],
        [
         60.0,
         752
        ],
        [
         70.0,
         509
        ],
        [
         80.0,
         518
        ]
       ],
       "datasetInfos": [],
       "dbfsResultPath": null,
       "isJsonSchema": true,
       "metadata": {},
       "overflow": false,
       "plotOptions": {
        "customPlotOptions": {
         "plotlyBar": [
          {
           "key": "grouped",
           "value": true
          },
          {
           "key": "stacked",
           "value": false
          },
          {
           "key": "100_stacked",
           "value": false
          }
         ]
        },
        "displayType": "plotlyBar",
        "pivotAggregation": "sum",
        "pivotColumns": [],
        "xColumns": [
         "age_bucket"
        ],
        "yColumns": [
         "absolute_frequence"
        ]
       },
       "removedWidgets": [],
       "schema": [
        {
         "metadata": "{}",
         "name": "age_bucket",
         "type": "\"double\""
        },
        {
         "metadata": "{}",
         "name": "absolute_frequence",
         "type": "\"long\""
        }
       ],
       "type": "table"
      }
     },
     "output_type": "display_data"
    }
   ],
   "source": [
    "from pyspark.sql.functions import col, round, lit\n",
    "from pyspark.sql.window import Window\n",
    "from pyspark.sql import functions as F\n",
    "\n",
    "# Visualizing the absolute frequence of observation grouped by age\n",
    "result_df = df.withColumn(\"age_bucket\", round(col(\"age\") / lit(10)) * lit(10)) \\\n",
    "    .groupBy(\"age_bucket\") \\\n",
    "    .agg(F.countDistinct(\"id\").alias(\"absolute_frequence\")) \\\n",
    "    .orderBy(\"age_bucket\")\n",
    "\n",
    "display(result_df)"
   ]
  },
  {
   "cell_type": "code",
   "execution_count": 0,
   "metadata": {
    "application/vnd.databricks.v1+cell": {
     "cellMetadata": {
      "byteLimit": 2048000,
      "implicitDf": true,
      "rowLimit": 10000
     },
     "inputWidgets": {},
     "nuid": "0fe318fa-9662-462d-a536-174fb4cf3049",
     "showTitle": false,
     "title": ""
    }
   },
   "outputs": [
    {
     "output_type": "display_data",
     "data": {
      "text/html": [
       "<style scoped>\n",
       "  .table-result-container {\n",
       "    max-height: 300px;\n",
       "    overflow: auto;\n",
       "  }\n",
       "  table, th, td {\n",
       "    border: 1px solid black;\n",
       "    border-collapse: collapse;\n",
       "  }\n",
       "  th, td {\n",
       "    padding: 5px;\n",
       "  }\n",
       "  th {\n",
       "    text-align: left;\n",
       "  }\n",
       "</style><div class='table-result-container'><table class='table-result'><thead style='background-color: white'><tr><th>bmi</th><th>absolute_frequence</th></tr></thead><tbody><tr><td>null</td><td>201</td></tr><tr><td>10.0</td><td>1</td></tr><tr><td>11.0</td><td>1</td></tr><tr><td>12.0</td><td>3</td></tr><tr><td>13.0</td><td>5</td></tr><tr><td>14.0</td><td>21</td></tr><tr><td>15.0</td><td>32</td></tr><tr><td>16.0</td><td>68</td></tr><tr><td>17.0</td><td>92</td></tr><tr><td>18.0</td><td>114</td></tr><tr><td>19.0</td><td>121</td></tr><tr><td>20.0</td><td>160</td></tr><tr><td>21.0</td><td>167</td></tr><tr><td>22.0</td><td>196</td></tr><tr><td>23.0</td><td>220</td></tr><tr><td>24.0</td><td>251</td></tr><tr><td>25.0</td><td>261</td></tr><tr><td>26.0</td><td>263</td></tr><tr><td>27.0</td><td>296</td></tr><tr><td>28.0</td><td>304</td></tr><tr><td>29.0</td><td>285</td></tr><tr><td>30.0</td><td>248</td></tr><tr><td>31.0</td><td>231</td></tr><tr><td>32.0</td><td>220</td></tr><tr><td>33.0</td><td>187</td></tr><tr><td>34.0</td><td>164</td></tr><tr><td>35.0</td><td>137</td></tr><tr><td>36.0</td><td>136</td></tr><tr><td>37.0</td><td>104</td></tr><tr><td>38.0</td><td>86</td></tr><tr><td>39.0</td><td>86</td></tr><tr><td>40.0</td><td>78</td></tr><tr><td>41.0</td><td>49</td></tr><tr><td>42.0</td><td>60</td></tr><tr><td>43.0</td><td>43</td></tr><tr><td>44.0</td><td>41</td></tr><tr><td>45.0</td><td>36</td></tr><tr><td>46.0</td><td>19</td></tr><tr><td>47.0</td><td>10</td></tr><tr><td>48.0</td><td>15</td></tr><tr><td>49.0</td><td>13</td></tr><tr><td>50.0</td><td>15</td></tr><tr><td>51.0</td><td>6</td></tr><tr><td>52.0</td><td>6</td></tr><tr><td>53.0</td><td>9</td></tr><tr><td>54.0</td><td>8</td></tr><tr><td>55.0</td><td>10</td></tr><tr><td>56.0</td><td>8</td></tr><tr><td>57.0</td><td>5</td></tr><tr><td>58.0</td><td>4</td></tr><tr><td>60.0</td><td>2</td></tr><tr><td>61.0</td><td>3</td></tr><tr><td>62.0</td><td>1</td></tr><tr><td>63.0</td><td>1</td></tr><tr><td>64.0</td><td>1</td></tr><tr><td>65.0</td><td>1</td></tr><tr><td>67.0</td><td>1</td></tr><tr><td>72.0</td><td>1</td></tr><tr><td>78.0</td><td>1</td></tr><tr><td>92.0</td><td>1</td></tr><tr><td>98.0</td><td>1</td></tr></tbody></table></div>"
      ]
     },
     "metadata": {
      "application/vnd.databricks.v1+output": {
       "addedWidgets": {},
       "aggData": [],
       "aggError": "",
       "aggOverflow": false,
       "aggSchema": [],
       "aggSeriesLimitReached": false,
       "aggType": "",
       "arguments": {},
       "columnCustomDisplayInfos": {},
       "data": [
        [
         null,
         201
        ],
        [
         10.0,
         1
        ],
        [
         11.0,
         1
        ],
        [
         12.0,
         3
        ],
        [
         13.0,
         5
        ],
        [
         14.0,
         21
        ],
        [
         15.0,
         32
        ],
        [
         16.0,
         68
        ],
        [
         17.0,
         92
        ],
        [
         18.0,
         114
        ],
        [
         19.0,
         121
        ],
        [
         20.0,
         160
        ],
        [
         21.0,
         167
        ],
        [
         22.0,
         196
        ],
        [
         23.0,
         220
        ],
        [
         24.0,
         251
        ],
        [
         25.0,
         261
        ],
        [
         26.0,
         263
        ],
        [
         27.0,
         296
        ],
        [
         28.0,
         304
        ],
        [
         29.0,
         285
        ],
        [
         30.0,
         248
        ],
        [
         31.0,
         231
        ],
        [
         32.0,
         220
        ],
        [
         33.0,
         187
        ],
        [
         34.0,
         164
        ],
        [
         35.0,
         137
        ],
        [
         36.0,
         136
        ],
        [
         37.0,
         104
        ],
        [
         38.0,
         86
        ],
        [
         39.0,
         86
        ],
        [
         40.0,
         78
        ],
        [
         41.0,
         49
        ],
        [
         42.0,
         60
        ],
        [
         43.0,
         43
        ],
        [
         44.0,
         41
        ],
        [
         45.0,
         36
        ],
        [
         46.0,
         19
        ],
        [
         47.0,
         10
        ],
        [
         48.0,
         15
        ],
        [
         49.0,
         13
        ],
        [
         50.0,
         15
        ],
        [
         51.0,
         6
        ],
        [
         52.0,
         6
        ],
        [
         53.0,
         9
        ],
        [
         54.0,
         8
        ],
        [
         55.0,
         10
        ],
        [
         56.0,
         8
        ],
        [
         57.0,
         5
        ],
        [
         58.0,
         4
        ],
        [
         60.0,
         2
        ],
        [
         61.0,
         3
        ],
        [
         62.0,
         1
        ],
        [
         63.0,
         1
        ],
        [
         64.0,
         1
        ],
        [
         65.0,
         1
        ],
        [
         67.0,
         1
        ],
        [
         72.0,
         1
        ],
        [
         78.0,
         1
        ],
        [
         92.0,
         1
        ],
        [
         98.0,
         1
        ]
       ],
       "datasetInfos": [],
       "dbfsResultPath": null,
       "isJsonSchema": true,
       "metadata": {},
       "overflow": false,
       "plotOptions": {
        "customPlotOptions": {
         "plotlyBar": [
          {
           "key": "grouped",
           "value": true
          },
          {
           "key": "stacked",
           "value": false
          },
          {
           "key": "100_stacked",
           "value": false
          }
         ]
        },
        "displayType": "plotlyBar",
        "pivotAggregation": "sum",
        "pivotColumns": [],
        "xColumns": [
         "bmi"
        ],
        "yColumns": [
         "absolute_frequence"
        ]
       },
       "removedWidgets": [],
       "schema": [
        {
         "metadata": "{}",
         "name": "bmi",
         "type": "\"float\""
        },
        {
         "metadata": "{}",
         "name": "absolute_frequence",
         "type": "\"long\""
        }
       ],
       "type": "table"
      }
     },
     "output_type": "display_data"
    }
   ],
   "source": [
    "from pyspark.sql.functions import col, countDistinct, round\n",
    "\n",
    "# Visualizing the absolute frequence of observation by BMI\n",
    "result_df = df.withColumn(\"bmi\", round(col(\"bmi\").cast(\"float\"), 0)) \\\n",
    "    .groupBy(\"bmi\") \\\n",
    "    .agg(countDistinct(\"id\").alias(\"absolute_frequence\")) \\\n",
    "    .orderBy(\"bmi\")\n",
    "\n",
    "display(result_df)\n",
    "# it looks like the bmi, once clenaed from extreme values follows a Gaussian distribution"
   ]
  },
  {
   "cell_type": "code",
   "execution_count": 0,
   "metadata": {
    "application/vnd.databricks.v1+cell": {
     "cellMetadata": {
      "byteLimit": 2048000,
      "implicitDf": true,
      "rowLimit": 10000
     },
     "inputWidgets": {},
     "nuid": "148f2cec-b79e-409e-8491-116c4578a38a",
     "showTitle": false,
     "title": ""
    }
   },
   "outputs": [
    {
     "output_type": "display_data",
     "data": {
      "text/html": [
       "<style scoped>\n",
       "  .table-result-container {\n",
       "    max-height: 300px;\n",
       "    overflow: auto;\n",
       "  }\n",
       "  table, th, td {\n",
       "    border: 1px solid black;\n",
       "    border-collapse: collapse;\n",
       "  }\n",
       "  th, td {\n",
       "    padding: 5px;\n",
       "  }\n",
       "  th {\n",
       "    text-align: left;\n",
       "  }\n",
       "</style><div class='table-result-container'><table class='table-result'><thead style='background-color: white'><tr><th>null_bmi</th><th>stroke</th><th>count_distinct_id</th></tr></thead><tbody><tr><td>BMI available</td><td>0</td><td>4700</td></tr><tr><td>BMI null</td><td>0</td><td>161</td></tr><tr><td>BMI null</td><td>1</td><td>40</td></tr><tr><td>BMI available</td><td>1</td><td>209</td></tr></tbody></table></div>"
      ]
     },
     "metadata": {
      "application/vnd.databricks.v1+output": {
       "addedWidgets": {},
       "aggData": [],
       "aggError": "",
       "aggOverflow": false,
       "aggSchema": [],
       "aggSeriesLimitReached": false,
       "aggType": "",
       "arguments": {},
       "columnCustomDisplayInfos": {},
       "data": [
        [
         "BMI available",
         "0",
         4700
        ],
        [
         "BMI null",
         "0",
         161
        ],
        [
         "BMI null",
         "1",
         40
        ],
        [
         "BMI available",
         "1",
         209
        ]
       ],
       "datasetInfos": [],
       "dbfsResultPath": null,
       "isJsonSchema": true,
       "metadata": {},
       "overflow": false,
       "plotOptions": {
        "customPlotOptions": {},
        "displayType": "pivotTable",
        "pivotAggregation": "sum",
        "pivotColumns": [
         "null_bmi"
        ],
        "xColumns": [
         "stroke"
        ],
        "yColumns": [
         "count_distinct_id"
        ]
       },
       "removedWidgets": [],
       "schema": [
        {
         "metadata": "{}",
         "name": "null_bmi",
         "type": "\"string\""
        },
        {
         "metadata": "{}",
         "name": "stroke",
         "type": "\"string\""
        },
        {
         "metadata": "{}",
         "name": "count_distinct_id",
         "type": "\"long\""
        }
       ],
       "type": "table"
      }
     },
     "output_type": "display_data"
    }
   ],
   "source": [
    "#What's the distribution of missing BMI info across the target variable?\n",
    "from pyspark.sql.functions import col, when, countDistinct\n",
    "\n",
    "result_df = df.withColumn(\"null_bmi\",\n",
    "    when(col(\"bmi\") == 'N/A', 'BMI null').otherwise('BMI available')\n",
    ").groupBy(\n",
    "    col(\"null_bmi\"),\n",
    "    col(\"stroke\")\n",
    ").agg(countDistinct(\"id\").alias(\"count_distinct_id\"))\n",
    "\n",
    "display(result_df) \n",
    "# We can't exclude observation with null bmi since too many positive targets are involved. -> We need to impute."
   ]
  },
  {
   "cell_type": "code",
   "execution_count": 0,
   "metadata": {
    "application/vnd.databricks.v1+cell": {
     "cellMetadata": {},
     "inputWidgets": {},
     "nuid": "be14aec8-1e95-47db-a3b3-d51da0799ace",
     "showTitle": false,
     "title": ""
    }
   },
   "outputs": [],
   "source": [
    "%sql\n",
    "select\n",
    "  round(avg_glucose_level :: float, -1) as avg_glucose_level,\n",
    "  count(distinct id) as absolute_frequence\n",
    "from\n",
    "  healthcare_dataset_stroke_data_csv\n",
    "group by\n",
    "  1\n",
    "order by\n",
    "  1"
   ]
  },
  {
   "cell_type": "code",
   "execution_count": 0,
   "metadata": {
    "application/vnd.databricks.v1+cell": {
     "cellMetadata": {
      "byteLimit": 2048000,
      "implicitDf": true,
      "rowLimit": 10000
     },
     "inputWidgets": {},
     "nuid": "64f5b2b1-7b07-4a8d-a657-3c0d62d98225",
     "showTitle": false,
     "title": ""
    }
   },
   "outputs": [
    {
     "output_type": "display_data",
     "data": {
      "text/html": [
       "<style scoped>\n",
       "  .table-result-container {\n",
       "    max-height: 300px;\n",
       "    overflow: auto;\n",
       "  }\n",
       "  table, th, td {\n",
       "    border: 1px solid black;\n",
       "    border-collapse: collapse;\n",
       "  }\n",
       "  th, td {\n",
       "    padding: 5px;\n",
       "  }\n",
       "  th {\n",
       "    text-align: left;\n",
       "  }\n",
       "</style><div class='table-result-container'><table class='table-result'><thead style='background-color: white'><tr><th>avg_glucose_level</th><th>absolute_frequence</th></tr></thead><tbody><tr><td>60.0</td><td>446</td></tr><tr><td>70.0</td><td>668</td></tr><tr><td>80.0</td><td>883</td></tr><tr><td>90.0</td><td>805</td></tr><tr><td>100.0</td><td>613</td></tr><tr><td>110.0</td><td>453</td></tr><tr><td>120.0</td><td>242</td></tr><tr><td>130.0</td><td>134</td></tr><tr><td>140.0</td><td>93</td></tr><tr><td>150.0</td><td>75</td></tr><tr><td>160.0</td><td>54</td></tr><tr><td>170.0</td><td>41</td></tr><tr><td>180.0</td><td>43</td></tr><tr><td>190.0</td><td>70</td></tr><tr><td>200.0</td><td>113</td></tr><tr><td>210.0</td><td>108</td></tr><tr><td>220.0</td><td>105</td></tr><tr><td>230.0</td><td>83</td></tr><tr><td>240.0</td><td>45</td></tr><tr><td>250.0</td><td>24</td></tr><tr><td>260.0</td><td>7</td></tr><tr><td>270.0</td><td>5</td></tr></tbody></table></div>"
      ]
     },
     "metadata": {
      "application/vnd.databricks.v1+output": {
       "addedWidgets": {},
       "aggData": [],
       "aggError": "",
       "aggOverflow": false,
       "aggSchema": [],
       "aggSeriesLimitReached": false,
       "aggType": "",
       "arguments": {},
       "columnCustomDisplayInfos": {},
       "data": [
        [
         60.0,
         446
        ],
        [
         70.0,
         668
        ],
        [
         80.0,
         883
        ],
        [
         90.0,
         805
        ],
        [
         100.0,
         613
        ],
        [
         110.0,
         453
        ],
        [
         120.0,
         242
        ],
        [
         130.0,
         134
        ],
        [
         140.0,
         93
        ],
        [
         150.0,
         75
        ],
        [
         160.0,
         54
        ],
        [
         170.0,
         41
        ],
        [
         180.0,
         43
        ],
        [
         190.0,
         70
        ],
        [
         200.0,
         113
        ],
        [
         210.0,
         108
        ],
        [
         220.0,
         105
        ],
        [
         230.0,
         83
        ],
        [
         240.0,
         45
        ],
        [
         250.0,
         24
        ],
        [
         260.0,
         7
        ],
        [
         270.0,
         5
        ]
       ],
       "datasetInfos": [],
       "dbfsResultPath": null,
       "isJsonSchema": true,
       "metadata": {},
       "overflow": false,
       "plotOptions": {
        "customPlotOptions": {
         "plotlyBar": [
          {
           "key": "grouped",
           "value": true
          },
          {
           "key": "stacked",
           "value": false
          },
          {
           "key": "100_stacked",
           "value": false
          }
         ]
        },
        "displayType": "plotlyBar",
        "pivotAggregation": "sum",
        "pivotColumns": [],
        "xColumns": [
         "avg_glucose_level"
        ],
        "yColumns": [
         "absolute_frequence"
        ]
       },
       "removedWidgets": [],
       "schema": [
        {
         "metadata": "{}",
         "name": "avg_glucose_level",
         "type": "\"float\""
        },
        {
         "metadata": "{}",
         "name": "absolute_frequence",
         "type": "\"long\""
        }
       ],
       "type": "table"
      }
     },
     "output_type": "display_data"
    }
   ],
   "source": [
    "# Perform aggregation and ordering\n",
    "result_df = df.withColumn(\"avg_glucose_level\", round(df[\"avg_glucose_level\"].cast(\"float\"), -1)) \\\n",
    "              .groupBy(\"avg_glucose_level\") \\\n",
    "              .agg(countDistinct(\"id\").alias(\"absolute_frequence\")) \\\n",
    "              .orderBy(\"avg_glucose_level\")\n",
    "\n",
    "display(result_df)"
   ]
  },
  {
   "cell_type": "markdown",
   "metadata": {
    "application/vnd.databricks.v1+cell": {
     "cellMetadata": {
      "byteLimit": 2048000,
      "rowLimit": 10000
     },
     "inputWidgets": {},
     "nuid": "02eb0e02-48c9-40cf-8565-40da32cfbb48",
     "showTitle": false,
     "title": ""
    }
   },
   "source": [
    "\n",
    "#### Data Transformation\n",
    "\n",
    "- Changing variable types and formats\n",
    "- Imputing missing values for BMI and smoking level"
   ]
  },
  {
   "cell_type": "code",
   "execution_count": 0,
   "metadata": {
    "application/vnd.databricks.v1+cell": {
     "cellMetadata": {
      "byteLimit": 2048000,
      "rowLimit": 10000
     },
     "inputWidgets": {},
     "nuid": "b5f66379-6f7f-42ec-8e82-d0e0926a1721",
     "showTitle": false,
     "title": ""
    }
   },
   "outputs": [
    {
     "output_type": "display_data",
     "data": {
      "text/html": [
       "<div>\n",
       "<style scoped>\n",
       "    .dataframe tbody tr th:only-of-type {\n",
       "        vertical-align: middle;\n",
       "    }\n",
       "\n",
       "    .dataframe tbody tr th {\n",
       "        vertical-align: top;\n",
       "    }\n",
       "\n",
       "    .dataframe thead th {\n",
       "        text-align: right;\n",
       "    }\n",
       "</style>\n",
       "<table border=\"1\" class=\"dataframe\">\n",
       "  <thead>\n",
       "    <tr style=\"text-align: right;\">\n",
       "      <th></th>\n",
       "      <th>is_female</th>\n",
       "      <th>age</th>\n",
       "      <th>hypertension</th>\n",
       "      <th>heart_disease</th>\n",
       "      <th>ever_married</th>\n",
       "      <th>urban_residence</th>\n",
       "      <th>avg_glucose_level</th>\n",
       "      <th>bmi</th>\n",
       "      <th>smoking_level</th>\n",
       "      <th>stroke</th>\n",
       "    </tr>\n",
       "  </thead>\n",
       "  <tbody>\n",
       "    <tr>\n",
       "      <th>count</th>\n",
       "      <td>5110.000000</td>\n",
       "      <td>5110.000000</td>\n",
       "      <td>5110.000000</td>\n",
       "      <td>5110.000000</td>\n",
       "      <td>5110.000000</td>\n",
       "      <td>5110.000000</td>\n",
       "      <td>5110.000000</td>\n",
       "      <td>4909.000000</td>\n",
       "      <td>3566.000000</td>\n",
       "      <td>5110.000000</td>\n",
       "    </tr>\n",
       "    <tr>\n",
       "      <th>mean</th>\n",
       "      <td>0.585910</td>\n",
       "      <td>43.226616</td>\n",
       "      <td>0.097456</td>\n",
       "      <td>0.054012</td>\n",
       "      <td>0.656164</td>\n",
       "      <td>0.508023</td>\n",
       "      <td>106.147675</td>\n",
       "      <td>28.893234</td>\n",
       "      <td>1.690690</td>\n",
       "      <td>0.048728</td>\n",
       "    </tr>\n",
       "    <tr>\n",
       "      <th>std</th>\n",
       "      <td>0.492612</td>\n",
       "      <td>22.612730</td>\n",
       "      <td>0.296607</td>\n",
       "      <td>0.226063</td>\n",
       "      <td>0.475034</td>\n",
       "      <td>0.499985</td>\n",
       "      <td>45.283562</td>\n",
       "      <td>7.854067</td>\n",
       "      <td>0.810144</td>\n",
       "      <td>0.215320</td>\n",
       "    </tr>\n",
       "    <tr>\n",
       "      <th>min</th>\n",
       "      <td>0.000000</td>\n",
       "      <td>0.000000</td>\n",
       "      <td>0.000000</td>\n",
       "      <td>0.000000</td>\n",
       "      <td>0.000000</td>\n",
       "      <td>0.000000</td>\n",
       "      <td>55.119999</td>\n",
       "      <td>10.300000</td>\n",
       "      <td>1.000000</td>\n",
       "      <td>0.000000</td>\n",
       "    </tr>\n",
       "    <tr>\n",
       "      <th>25%</th>\n",
       "      <td>0.000000</td>\n",
       "      <td>25.000000</td>\n",
       "      <td>0.000000</td>\n",
       "      <td>0.000000</td>\n",
       "      <td>0.000000</td>\n",
       "      <td>0.000000</td>\n",
       "      <td>77.244999</td>\n",
       "      <td>23.500000</td>\n",
       "      <td>1.000000</td>\n",
       "      <td>0.000000</td>\n",
       "    </tr>\n",
       "    <tr>\n",
       "      <th>50%</th>\n",
       "      <td>1.000000</td>\n",
       "      <td>45.000000</td>\n",
       "      <td>0.000000</td>\n",
       "      <td>0.000000</td>\n",
       "      <td>1.000000</td>\n",
       "      <td>1.000000</td>\n",
       "      <td>91.884998</td>\n",
       "      <td>28.100000</td>\n",
       "      <td>1.000000</td>\n",
       "      <td>0.000000</td>\n",
       "    </tr>\n",
       "    <tr>\n",
       "      <th>75%</th>\n",
       "      <td>1.000000</td>\n",
       "      <td>61.000000</td>\n",
       "      <td>0.000000</td>\n",
       "      <td>0.000000</td>\n",
       "      <td>1.000000</td>\n",
       "      <td>1.000000</td>\n",
       "      <td>114.089996</td>\n",
       "      <td>33.099998</td>\n",
       "      <td>2.000000</td>\n",
       "      <td>0.000000</td>\n",
       "    </tr>\n",
       "    <tr>\n",
       "      <th>max</th>\n",
       "      <td>1.000000</td>\n",
       "      <td>82.000000</td>\n",
       "      <td>1.000000</td>\n",
       "      <td>1.000000</td>\n",
       "      <td>1.000000</td>\n",
       "      <td>1.000000</td>\n",
       "      <td>271.739990</td>\n",
       "      <td>97.599998</td>\n",
       "      <td>3.000000</td>\n",
       "      <td>1.000000</td>\n",
       "    </tr>\n",
       "  </tbody>\n",
       "</table>\n",
       "</div>"
      ]
     },
     "metadata": {
      "application/vnd.databricks.v1+output": {
       "addedWidgets": {},
       "arguments": {},
       "data": "<div>\n<style scoped>\n    .dataframe tbody tr th:only-of-type {\n        vertical-align: middle;\n    }\n\n    .dataframe tbody tr th {\n        vertical-align: top;\n    }\n\n    .dataframe thead th {\n        text-align: right;\n    }\n</style>\n<table border=\"1\" class=\"dataframe\">\n  <thead>\n    <tr style=\"text-align: right;\">\n      <th></th>\n      <th>is_female</th>\n      <th>age</th>\n      <th>hypertension</th>\n      <th>heart_disease</th>\n      <th>ever_married</th>\n      <th>urban_residence</th>\n      <th>avg_glucose_level</th>\n      <th>bmi</th>\n      <th>smoking_level</th>\n      <th>stroke</th>\n    </tr>\n  </thead>\n  <tbody>\n    <tr>\n      <th>count</th>\n      <td>5110.000000</td>\n      <td>5110.000000</td>\n      <td>5110.000000</td>\n      <td>5110.000000</td>\n      <td>5110.000000</td>\n      <td>5110.000000</td>\n      <td>5110.000000</td>\n      <td>4909.000000</td>\n      <td>3566.000000</td>\n      <td>5110.000000</td>\n    </tr>\n    <tr>\n      <th>mean</th>\n      <td>0.585910</td>\n      <td>43.226616</td>\n      <td>0.097456</td>\n      <td>0.054012</td>\n      <td>0.656164</td>\n      <td>0.508023</td>\n      <td>106.147675</td>\n      <td>28.893234</td>\n      <td>1.690690</td>\n      <td>0.048728</td>\n    </tr>\n    <tr>\n      <th>std</th>\n      <td>0.492612</td>\n      <td>22.612730</td>\n      <td>0.296607</td>\n      <td>0.226063</td>\n      <td>0.475034</td>\n      <td>0.499985</td>\n      <td>45.283562</td>\n      <td>7.854067</td>\n      <td>0.810144</td>\n      <td>0.215320</td>\n    </tr>\n    <tr>\n      <th>min</th>\n      <td>0.000000</td>\n      <td>0.000000</td>\n      <td>0.000000</td>\n      <td>0.000000</td>\n      <td>0.000000</td>\n      <td>0.000000</td>\n      <td>55.119999</td>\n      <td>10.300000</td>\n      <td>1.000000</td>\n      <td>0.000000</td>\n    </tr>\n    <tr>\n      <th>25%</th>\n      <td>0.000000</td>\n      <td>25.000000</td>\n      <td>0.000000</td>\n      <td>0.000000</td>\n      <td>0.000000</td>\n      <td>0.000000</td>\n      <td>77.244999</td>\n      <td>23.500000</td>\n      <td>1.000000</td>\n      <td>0.000000</td>\n    </tr>\n    <tr>\n      <th>50%</th>\n      <td>1.000000</td>\n      <td>45.000000</td>\n      <td>0.000000</td>\n      <td>0.000000</td>\n      <td>1.000000</td>\n      <td>1.000000</td>\n      <td>91.884998</td>\n      <td>28.100000</td>\n      <td>1.000000</td>\n      <td>0.000000</td>\n    </tr>\n    <tr>\n      <th>75%</th>\n      <td>1.000000</td>\n      <td>61.000000</td>\n      <td>0.000000</td>\n      <td>0.000000</td>\n      <td>1.000000</td>\n      <td>1.000000</td>\n      <td>114.089996</td>\n      <td>33.099998</td>\n      <td>2.000000</td>\n      <td>0.000000</td>\n    </tr>\n    <tr>\n      <th>max</th>\n      <td>1.000000</td>\n      <td>82.000000</td>\n      <td>1.000000</td>\n      <td>1.000000</td>\n      <td>1.000000</td>\n      <td>1.000000</td>\n      <td>271.739990</td>\n      <td>97.599998</td>\n      <td>3.000000</td>\n      <td>1.000000</td>\n    </tr>\n  </tbody>\n</table>\n</div>",
       "datasetInfos": [],
       "metadata": {},
       "removedWidgets": [],
       "textData": null,
       "type": "htmlSandbox"
      }
     },
     "output_type": "display_data"
    }
   ],
   "source": [
    "# changing formats and types\n",
    "query = \"\"\"select distinct \n",
    "id,\n",
    "(gender = 'Female')::int as is_female, --transforming gender -> dichotomic\n",
    "round(age::float,0) as age,\n",
    "hypertension::int as hypertension,\n",
    "heart_disease::int as heart_disease,\n",
    "(ever_married = 'Yes')::int as ever_married,\n",
    "work_type,\n",
    "(Residence_type = 'Urban')::int as urban_residence,\n",
    "avg_glucose_level::float,\n",
    "nullif(bmi,'N/A')::float as bmi,\n",
    "case when smoking_status = 'smokes' then 3 \n",
    "  when smoking_status = 'formerly smoked' then 2 \n",
    "  when smoking_status = 'never smoked' then 1 end as smoking_level, --3 levels + null\n",
    "stroke::int as stroke\n",
    "from `healthcare_dataset_stroke_data_csv`\n",
    "                       \"\"\"\n",
    "clean_data = spark.sql(query)\n",
    "\n",
    "# display(clean_data)\n",
    "\n",
    "# checkign for errors\n",
    "clean_data.toPandas().describe()"
   ]
  },
  {
   "cell_type": "code",
   "execution_count": 0,
   "metadata": {
    "application/vnd.databricks.v1+cell": {
     "cellMetadata": {
      "byteLimit": 2048000,
      "rowLimit": 10000
     },
     "inputWidgets": {},
     "nuid": "b784250b-398b-487f-9de8-06d69cc00809",
     "showTitle": false,
     "title": ""
    }
   },
   "outputs": [
    {
     "output_type": "stream",
     "name": "stdout",
     "output_type": "stream",
     "text": [
      "2.5% percentile:  16.4  -- 97.5% percentile:  46.43\nmean of the distribution:  28.63  -- Std of the distribution:  6.5\nMissing bmi values:  201\n"
     ]
    },
    {
     "output_type": "stream",
     "name": "stderr",
     "output_type": "stream",
     "text": [
      "<command-672314515172179>:20: SettingWithCopyWarning: \nA value is trying to be set on a copy of a slice from a DataFrame\n\nSee the caveats in the documentation: https://pandas.pydata.org/pandas-docs/stable/user_guide/indexing.html#returning-a-view-versus-a-copy\n  pandas_clean_data.bmi[pandas_clean_data['bmi'].isna()] = fill # = pandas_clean_data['bmi'].fillna(value = fill)\n"
     ]
    }
   ],
   "source": [
    "#Random imputation of BMI via Gaussian Distribution \n",
    "#Detecting Outliers\n",
    "import numpy as np\n",
    "\n",
    "\n",
    "pandas_clean_data = clean_data.toPandas()\n",
    "bottom_2_5 = np.percentile(pandas_clean_data.bmi.dropna(), 2.5)\n",
    "top_97_5 = np.percentile(pandas_clean_data.bmi.dropna(), 97.5)\n",
    "print(\"2.5% percentile: \",np.round(bottom_2_5,2), \" -- 97.5% percentile: \", np.round(top_97_5,2))\n",
    "\n",
    "#Estimating Mean and St. Deviation of the adjusted distribution \n",
    "mu = np.mean(pandas_clean_data.bmi[ (pandas_clean_data['bmi'] > bottom_2_5) & (pandas_clean_data['bmi'] < top_97_5) ])\n",
    "sd = np.std(pandas_clean_data.bmi[ (pandas_clean_data['bmi'] > bottom_2_5) & (pandas_clean_data['bmi'] < top_97_5) ])\n",
    "print(\"mean of the distribution: \", np.round(mu,2), \" -- Std of the distribution: \", np.round(sd,2))\n",
    "\n",
    "#Value imputation\n",
    "n = pandas_clean_data['bmi'].isna().sum()\n",
    "print(\"Missing bmi values: \", n)\n",
    "fill = np.random.normal(mu, sd, n)\n",
    "pandas_clean_data.bmi[pandas_clean_data['bmi'].isna()] = fill # = pandas_clean_data['bmi'].fillna(value = fill)"
   ]
  },
  {
   "cell_type": "code",
   "execution_count": 0,
   "metadata": {
    "application/vnd.databricks.v1+cell": {
     "cellMetadata": {
      "byteLimit": 2048000,
      "rowLimit": 10000
     },
     "inputWidgets": {},
     "nuid": "675fab7c-401b-4f0a-9d2d-d9fbb63eb26f",
     "showTitle": false,
     "title": ""
    }
   },
   "outputs": [
    {
     "output_type": "display_data",
     "data": {
      "application/vnd.databricks.v1+bamboolib_hint": "{\"pd.DataFrames\": [\"pdf\", \"temp_continuous\", \"pandas_clean_data\"], \"version\": \"0.0.1\"}",
      "text/plain": []
     },
     "metadata": {},
     "output_type": "display_data"
    },
    {
     "output_type": "display_data",
     "data": {
      "text/html": [
       "<div>\n",
       "<style scoped>\n",
       "    .dataframe tbody tr th:only-of-type {\n",
       "        vertical-align: middle;\n",
       "    }\n",
       "\n",
       "    .dataframe tbody tr th {\n",
       "        vertical-align: top;\n",
       "    }\n",
       "\n",
       "    .dataframe thead th {\n",
       "        text-align: right;\n",
       "    }\n",
       "</style>\n",
       "<table border=\"1\" class=\"dataframe\">\n",
       "  <thead>\n",
       "    <tr style=\"text-align: right;\">\n",
       "      <th></th>\n",
       "      <th>is_female</th>\n",
       "      <th>age</th>\n",
       "      <th>hypertension</th>\n",
       "      <th>heart_disease</th>\n",
       "      <th>ever_married</th>\n",
       "      <th>urban_residence</th>\n",
       "      <th>avg_glucose_level</th>\n",
       "      <th>bmi</th>\n",
       "      <th>smoking_level</th>\n",
       "      <th>work_type_Never_worked</th>\n",
       "      <th>work_type_Private</th>\n",
       "      <th>work_type_Self-employed</th>\n",
       "      <th>work_type_children</th>\n",
       "    </tr>\n",
       "  </thead>\n",
       "  <tbody>\n",
       "    <tr>\n",
       "      <th>0</th>\n",
       "      <td>0.0</td>\n",
       "      <td>0.707317</td>\n",
       "      <td>0.0</td>\n",
       "      <td>1.0</td>\n",
       "      <td>1.0</td>\n",
       "      <td>0.0</td>\n",
       "      <td>0.856200</td>\n",
       "      <td>0.254265</td>\n",
       "      <td>1.0</td>\n",
       "      <td>0.0</td>\n",
       "      <td>1.0</td>\n",
       "      <td>0.0</td>\n",
       "      <td>0.0</td>\n",
       "    </tr>\n",
       "    <tr>\n",
       "      <th>1</th>\n",
       "      <td>0.0</td>\n",
       "      <td>0.963415</td>\n",
       "      <td>0.0</td>\n",
       "      <td>0.0</td>\n",
       "      <td>1.0</td>\n",
       "      <td>0.0</td>\n",
       "      <td>0.275367</td>\n",
       "      <td>0.162488</td>\n",
       "      <td>0.5</td>\n",
       "      <td>0.0</td>\n",
       "      <td>1.0</td>\n",
       "      <td>0.0</td>\n",
       "      <td>0.0</td>\n",
       "    </tr>\n",
       "    <tr>\n",
       "      <th>2</th>\n",
       "      <td>1.0</td>\n",
       "      <td>0.097561</td>\n",
       "      <td>0.0</td>\n",
       "      <td>0.0</td>\n",
       "      <td>0.0</td>\n",
       "      <td>1.0</td>\n",
       "      <td>0.257455</td>\n",
       "      <td>0.098809</td>\n",
       "      <td>NaN</td>\n",
       "      <td>0.0</td>\n",
       "      <td>1.0</td>\n",
       "      <td>0.0</td>\n",
       "      <td>0.0</td>\n",
       "    </tr>\n",
       "    <tr>\n",
       "      <th>3</th>\n",
       "      <td>1.0</td>\n",
       "      <td>0.926829</td>\n",
       "      <td>0.0</td>\n",
       "      <td>0.0</td>\n",
       "      <td>1.0</td>\n",
       "      <td>1.0</td>\n",
       "      <td>0.190056</td>\n",
       "      <td>0.186675</td>\n",
       "      <td>1.0</td>\n",
       "      <td>0.0</td>\n",
       "      <td>0.0</td>\n",
       "      <td>0.0</td>\n",
       "      <td>0.0</td>\n",
       "    </tr>\n",
       "    <tr>\n",
       "      <th>4</th>\n",
       "      <td>1.0</td>\n",
       "      <td>0.390244</td>\n",
       "      <td>0.0</td>\n",
       "      <td>0.0</td>\n",
       "      <td>0.0</td>\n",
       "      <td>1.0</td>\n",
       "      <td>0.046995</td>\n",
       "      <td>0.355649</td>\n",
       "      <td>0.0</td>\n",
       "      <td>0.0</td>\n",
       "      <td>0.0</td>\n",
       "      <td>1.0</td>\n",
       "      <td>0.0</td>\n",
       "    </tr>\n",
       "  </tbody>\n",
       "</table>\n",
       "</div>"
      ]
     },
     "metadata": {
      "application/vnd.databricks.v1+output": {
       "addedWidgets": {},
       "arguments": {},
       "data": "<div>\n<style scoped>\n    .dataframe tbody tr th:only-of-type {\n        vertical-align: middle;\n    }\n\n    .dataframe tbody tr th {\n        vertical-align: top;\n    }\n\n    .dataframe thead th {\n        text-align: right;\n    }\n</style>\n<table border=\"1\" class=\"dataframe\">\n  <thead>\n    <tr style=\"text-align: right;\">\n      <th></th>\n      <th>is_female</th>\n      <th>age</th>\n      <th>hypertension</th>\n      <th>heart_disease</th>\n      <th>ever_married</th>\n      <th>urban_residence</th>\n      <th>avg_glucose_level</th>\n      <th>bmi</th>\n      <th>smoking_level</th>\n      <th>work_type_Never_worked</th>\n      <th>work_type_Private</th>\n      <th>work_type_Self-employed</th>\n      <th>work_type_children</th>\n    </tr>\n  </thead>\n  <tbody>\n    <tr>\n      <th>0</th>\n      <td>0.0</td>\n      <td>0.707317</td>\n      <td>0.0</td>\n      <td>1.0</td>\n      <td>1.0</td>\n      <td>0.0</td>\n      <td>0.856200</td>\n      <td>0.254265</td>\n      <td>1.0</td>\n      <td>0.0</td>\n      <td>1.0</td>\n      <td>0.0</td>\n      <td>0.0</td>\n    </tr>\n    <tr>\n      <th>1</th>\n      <td>0.0</td>\n      <td>0.963415</td>\n      <td>0.0</td>\n      <td>0.0</td>\n      <td>1.0</td>\n      <td>0.0</td>\n      <td>0.275367</td>\n      <td>0.162488</td>\n      <td>0.5</td>\n      <td>0.0</td>\n      <td>1.0</td>\n      <td>0.0</td>\n      <td>0.0</td>\n    </tr>\n    <tr>\n      <th>2</th>\n      <td>1.0</td>\n      <td>0.097561</td>\n      <td>0.0</td>\n      <td>0.0</td>\n      <td>0.0</td>\n      <td>1.0</td>\n      <td>0.257455</td>\n      <td>0.098809</td>\n      <td>NaN</td>\n      <td>0.0</td>\n      <td>1.0</td>\n      <td>0.0</td>\n      <td>0.0</td>\n    </tr>\n    <tr>\n      <th>3</th>\n      <td>1.0</td>\n      <td>0.926829</td>\n      <td>0.0</td>\n      <td>0.0</td>\n      <td>1.0</td>\n      <td>1.0</td>\n      <td>0.190056</td>\n      <td>0.186675</td>\n      <td>1.0</td>\n      <td>0.0</td>\n      <td>0.0</td>\n      <td>0.0</td>\n      <td>0.0</td>\n    </tr>\n    <tr>\n      <th>4</th>\n      <td>1.0</td>\n      <td>0.390244</td>\n      <td>0.0</td>\n      <td>0.0</td>\n      <td>0.0</td>\n      <td>1.0</td>\n      <td>0.046995</td>\n      <td>0.355649</td>\n      <td>0.0</td>\n      <td>0.0</td>\n      <td>0.0</td>\n      <td>1.0</td>\n      <td>0.0</td>\n    </tr>\n  </tbody>\n</table>\n</div>",
       "datasetInfos": [],
       "metadata": {},
       "removedWidgets": [],
       "textData": null,
       "type": "htmlSandbox"
      }
     },
     "output_type": "display_data"
    }
   ],
   "source": [
    "# Now imputing Smoking_level with KNN imputer \n",
    "\n",
    "# Scaling our dataset to avoid distance issues\n",
    "from sklearn.preprocessing import MinMaxScaler\n",
    "import pandas as pd\n",
    "\n",
    "# Work type can't be encoded as ordered categorical variable -> we need to get its dummies\n",
    "pandas_clean_data = pd.get_dummies(pandas_clean_data, columns=[\"work_type\"], drop_first = True)\n",
    "\n",
    "\n",
    "scaler = MinMaxScaler()\n",
    "scaled_df = pandas_clean_data.drop(['stroke', 'id'], axis = 1)\n",
    "scaled_df = pd.DataFrame(scaler.fit_transform(scaled_df), columns = scaled_df.columns)\n",
    "\n",
    "#Having a look at the partial result\n",
    "scaled_df.head()"
   ]
  },
  {
   "cell_type": "code",
   "execution_count": 0,
   "metadata": {
    "application/vnd.databricks.v1+cell": {
     "cellMetadata": {
      "byteLimit": 2048000,
      "rowLimit": 10000
     },
     "inputWidgets": {},
     "nuid": "90f7dad2-67d3-49ea-8f48-fe234f98700d",
     "showTitle": false,
     "title": ""
    }
   },
   "outputs": [
    {
     "output_type": "stream",
     "name": "stdout",
     "output_type": "stream",
     "text": [
      "Out[34]: is_female                  False\nage                        False\nhypertension               False\nheart_disease              False\never_married               False\nurban_residence            False\navg_glucose_level          False\nbmi                        False\nsmoking_level              False\nwork_type_Never_worked     False\nwork_type_Private          False\nwork_type_Self-employed    False\nwork_type_children         False\nstroke                     False\ndtype: bool"
     ]
    }
   ],
   "source": [
    "# Actual imputation\n",
    "from sklearn.impute import KNNImputer\n",
    "\n",
    "#Basing the imputation on the 5 neareast neighbors \n",
    "imputer = KNNImputer(n_neighbors=5)\n",
    "\n",
    "scaled_df = pd.DataFrame(imputer.fit_transform(scaled_df), columns = scaled_df.columns)\n",
    "\n",
    "# Dropping old column and appending new imputed column. Variable is scaled but it won't make any difference. \n",
    "pandas_clean_data = pandas_clean_data.drop('smoking_level', axis = 1)\n",
    "pandas_clean_data = pd.concat([pandas_clean_data, scaled_df['smoking_level']], axis = 1)\n",
    "scaled_df = pd.concat([scaled_df, pandas_clean_data['stroke']], axis = 1)\n",
    "\n",
    "#Did we solve the problem? \n",
    "scaled_df.isna().any()\n",
    "#Yes, no missing values are left"
   ]
  },
  {
   "cell_type": "markdown",
   "metadata": {
    "application/vnd.databricks.v1+cell": {
     "cellMetadata": {
      "byteLimit": 2048000,
      "rowLimit": 10000
     },
     "inputWidgets": {},
     "nuid": "2f29b325-224c-4c11-8d2b-2e0c04c35634",
     "showTitle": false,
     "title": ""
    }
   },
   "source": [
    "\n",
    "#### Data Modelling\n",
    "Fitting a classifier to understand the impact of each feature and testing for significance "
   ]
  },
  {
   "cell_type": "code",
   "execution_count": 0,
   "metadata": {
    "application/vnd.databricks.v1+cell": {
     "cellMetadata": {
      "byteLimit": 2048000,
      "rowLimit": 10000
     },
     "inputWidgets": {},
     "nuid": "f9528273-d5c1-4f70-bf4b-9f255389804e",
     "showTitle": false,
     "title": ""
    }
   },
   "outputs": [
    {
     "output_type": "stream",
     "name": "stdout",
     "output_type": "stream",
     "text": [
      "                 Generalized Linear Model Regression Results                  \n==============================================================================\nDep. Variable:                 stroke   No. Observations:                 5110\nModel:                            GLM   Df Residuals:                     5097\nModel Family:                Binomial   Df Model:                           12\nLink Function:                  Logit   Scale:                          1.0000\nMethod:                          IRLS   Log-Likelihood:                -944.84\nDate:                Mon, 11 Sep 2023   Deviance:                       1889.7\nTime:                        14:45:41   Pearson chi2:                 9.46e+03\nNo. Iterations:                    22   Pseudo R-squ. (CS):            0.01951\nCovariance Type:            nonrobust                                         \n===========================================================================================\n                              coef    std err          z      P>|z|      [0.025      0.975]\n-------------------------------------------------------------------------------------------\nis_female                  -0.6522      0.123     -5.300      0.000      -0.893      -0.411\nage                         2.0871      0.319      6.545      0.000       1.462       2.712\nhypertension                0.7608      0.166      4.586      0.000       0.436       1.086\nheart_disease               0.5944      0.196      3.039      0.002       0.211       0.978\never_married               -0.6700      0.170     -3.932      0.000      -1.004      -0.336\nurban_residence            -0.2685      0.126     -2.138      0.033      -0.515      -0.022\navg_glucose_level           0.8540      0.267      3.199      0.001       0.331       1.377\nbmi                       -11.3808      0.849    -13.402      0.000     -13.045      -9.716\nsmoking_level              -0.2892      0.177     -1.633      0.103      -0.636       0.058\nwork_type_Never_worked    -21.8124   1.61e+04     -0.001      0.999   -3.15e+04    3.15e+04\nwork_type_Private          -1.0438      0.141     -7.398      0.000      -1.320      -0.767\nwork_type_Self-employed    -0.9181      0.188     -4.885      0.000      -1.286      -0.550\nwork_type_children         -4.4074      0.715     -6.164      0.000      -5.809      -3.006\n===========================================================================================\n"
     ]
    }
   ],
   "source": [
    "# Start fitting a logistic regression. This will help us evaluating feature importance and significance \n",
    "import statsmodels.api as sm\n",
    "\n",
    "\n",
    "fit1 = sm.GLM(scaled_df['stroke'], scaled_df.drop(['stroke'], axis = 1), family = sm.families.Binomial())\n",
    "\n",
    "# displaying fit and significance\n",
    "results = fit1.fit()\n",
    "print(results.summary())\n"
   ]
  },
  {
   "cell_type": "code",
   "execution_count": 0,
   "metadata": {
    "application/vnd.databricks.v1+cell": {
     "cellMetadata": {
      "byteLimit": 2048000,
      "rowLimit": 10000
     },
     "inputWidgets": {},
     "nuid": "ad4f5e7c-b4d7-42ec-b220-867299f509c0",
     "showTitle": false,
     "title": ""
    }
   },
   "outputs": [
    {
     "output_type": "stream",
     "name": "stdout",
     "output_type": "stream",
     "text": [
      "Out[36]: DecisionTreeClassifier()"
     ]
    }
   ],
   "source": [
    "# Fitting a decision tree classifier and evaluating feature importance\n",
    "\n",
    "from sklearn.datasets import make_regression\n",
    "from sklearn.tree import DecisionTreeClassifier\n",
    "from matplotlib import pyplot\n",
    "\n",
    "# define the model\n",
    "model = DecisionTreeClassifier()\n",
    "# fit the model\n",
    "model.fit(scaled_df.drop(['stroke'], axis = 1), scaled_df['stroke'])"
   ]
  },
  {
   "cell_type": "code",
   "execution_count": 0,
   "metadata": {
    "application/vnd.databricks.v1+cell": {
     "cellMetadata": {
      "byteLimit": 2048000,
      "rowLimit": 10000
     },
     "inputWidgets": {},
     "nuid": "b2fc205b-478e-401e-98d0-b51ee26984e8",
     "showTitle": false,
     "title": ""
    }
   },
   "outputs": [
    {
     "output_type": "stream",
     "name": "stdout",
     "output_type": "stream",
     "text": [
      "Out[37]: <AxesSubplot:>"
     ]
    },
    {
     "output_type": "display_data",
     "data": {
      "image/png": "[encoded data removed]"
     },
     "metadata": {
      "application/vnd.databricks.v1+output": {
       "addedWidgets": {},
       "arguments": {},
       "data": "data:image/png;base64,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\n",
       "datasetInfos": [],
       "metadata": {},
       "removedWidgets": [],
       "type": "image"
      }
     },
     "output_type": "display_data"
    }
   ],
   "source": [
    "# Visualizing Feature Importance\n",
    "\n",
    "feats = {} # a dict to hold feature_name: feature_importance\n",
    "for feature, importance in zip(scaled_df.columns, model.feature_importances_):\n",
    "    feats[feature] = importance #add the name/value pair \n",
    "\n",
    "importances = pd.DataFrame.from_dict(feats, orient='index').rename(columns={0: 'Gini-importance'})\n",
    "importances.sort_values(by='Gini-importance').plot(kind='bar')"
   ]
  },
  {
   "cell_type": "markdown",
   "metadata": {
    "application/vnd.databricks.v1+cell": {
     "cellMetadata": {
      "byteLimit": 2048000,
      "rowLimit": 10000
     },
     "inputWidgets": {},
     "nuid": "85366859-4be9-4de8-9f16-2f5c9c463b2c",
     "showTitle": false,
     "title": ""
    }
   },
   "source": [
    "\n",
    "#### Final Visualization\n",
    "\n",
    "Loading Transformed data and Visualising features selected by the two models with their impact on Target"
   ]
  },
  {
   "cell_type": "code",
   "execution_count": 0,
   "metadata": {
    "application/vnd.databricks.v1+cell": {
     "cellMetadata": {
      "byteLimit": 2048000,
      "rowLimit": 10000
     },
     "inputWidgets": {},
     "nuid": "a24657a8-743c-4740-b876-1fd93211ed5d",
     "showTitle": false,
     "title": ""
    }
   },
   "outputs": [
    {
     "output_type": "display_data",
     "data": {
      "text/html": [
       "<div>\n",
       "<style scoped>\n",
       "    .dataframe tbody tr th:only-of-type {\n",
       "        vertical-align: middle;\n",
       "    }\n",
       "\n",
       "    .dataframe tbody tr th {\n",
       "        vertical-align: top;\n",
       "    }\n",
       "\n",
       "    .dataframe thead th {\n",
       "        text-align: right;\n",
       "    }\n",
       "</style>\n",
       "<table border=\"1\" class=\"dataframe\">\n",
       "  <thead>\n",
       "    <tr style=\"text-align: right;\">\n",
       "      <th></th>\n",
       "      <th>id</th>\n",
       "      <th>is_female</th>\n",
       "      <th>age</th>\n",
       "      <th>hypertension</th>\n",
       "      <th>heart_disease</th>\n",
       "      <th>ever_married</th>\n",
       "      <th>urban_residence</th>\n",
       "      <th>avg_glucose_level</th>\n",
       "      <th>bmi</th>\n",
       "      <th>stroke</th>\n",
       "      <th>work_type_Never_worked</th>\n",
       "      <th>work_type_Private</th>\n",
       "      <th>work_type_Self-employed</th>\n",
       "      <th>work_type_children</th>\n",
       "      <th>smoking_level</th>\n",
       "    </tr>\n",
       "  </thead>\n",
       "  <tbody>\n",
       "    <tr>\n",
       "      <th>0</th>\n",
       "      <td>56841</td>\n",
       "      <td>0</td>\n",
       "      <td>58.0</td>\n",
       "      <td>0</td>\n",
       "      <td>1</td>\n",
       "      <td>1</td>\n",
       "      <td>0</td>\n",
       "      <td>240.589996</td>\n",
       "      <td>31.400000</td>\n",
       "      <td>1</td>\n",
       "      <td>0</td>\n",
       "      <td>1</td>\n",
       "      <td>0</td>\n",
       "      <td>0</td>\n",
       "      <td>1.0</td>\n",
       "    </tr>\n",
       "    <tr>\n",
       "      <th>1</th>\n",
       "      <td>18937</td>\n",
       "      <td>0</td>\n",
       "      <td>79.0</td>\n",
       "      <td>0</td>\n",
       "      <td>0</td>\n",
       "      <td>1</td>\n",
       "      <td>0</td>\n",
       "      <td>114.769997</td>\n",
       "      <td>23.252823</td>\n",
       "      <td>1</td>\n",
       "      <td>0</td>\n",
       "      <td>1</td>\n",
       "      <td>0</td>\n",
       "      <td>0</td>\n",
       "      <td>0.5</td>\n",
       "    </tr>\n",
       "    <tr>\n",
       "      <th>2</th>\n",
       "      <td>16523</td>\n",
       "      <td>1</td>\n",
       "      <td>8.0</td>\n",
       "      <td>0</td>\n",
       "      <td>0</td>\n",
       "      <td>0</td>\n",
       "      <td>1</td>\n",
       "      <td>110.889999</td>\n",
       "      <td>17.600000</td>\n",
       "      <td>0</td>\n",
       "      <td>0</td>\n",
       "      <td>1</td>\n",
       "      <td>0</td>\n",
       "      <td>0</td>\n",
       "      <td>0.2</td>\n",
       "    </tr>\n",
       "    <tr>\n",
       "      <th>3</th>\n",
       "      <td>69673</td>\n",
       "      <td>1</td>\n",
       "      <td>76.0</td>\n",
       "      <td>0</td>\n",
       "      <td>0</td>\n",
       "      <td>1</td>\n",
       "      <td>1</td>\n",
       "      <td>96.290001</td>\n",
       "      <td>25.400000</td>\n",
       "      <td>0</td>\n",
       "      <td>0</td>\n",
       "      <td>0</td>\n",
       "      <td>0</td>\n",
       "      <td>0</td>\n",
       "      <td>1.0</td>\n",
       "    </tr>\n",
       "    <tr>\n",
       "      <th>4</th>\n",
       "      <td>39399</td>\n",
       "      <td>1</td>\n",
       "      <td>32.0</td>\n",
       "      <td>0</td>\n",
       "      <td>0</td>\n",
       "      <td>0</td>\n",
       "      <td>1</td>\n",
       "      <td>65.300003</td>\n",
       "      <td>40.400002</td>\n",
       "      <td>0</td>\n",
       "      <td>0</td>\n",
       "      <td>0</td>\n",
       "      <td>1</td>\n",
       "      <td>0</td>\n",
       "      <td>0.0</td>\n",
       "    </tr>\n",
       "  </tbody>\n",
       "</table>\n",
       "</div>"
      ]
     },
     "metadata": {
      "application/vnd.databricks.v1+output": {
       "addedWidgets": {},
       "arguments": {},
       "data": "<div>\n<style scoped>\n    .dataframe tbody tr th:only-of-type {\n        vertical-align: middle;\n    }\n\n    .dataframe tbody tr th {\n        vertical-align: top;\n    }\n\n    .dataframe thead th {\n        text-align: right;\n    }\n</style>\n<table border=\"1\" class=\"dataframe\">\n  <thead>\n    <tr style=\"text-align: right;\">\n      <th></th>\n      <th>id</th>\n      <th>is_female</th>\n      <th>age</th>\n      <th>hypertension</th>\n      <th>heart_disease</th>\n      <th>ever_married</th>\n      <th>urban_residence</th>\n      <th>avg_glucose_level</th>\n      <th>bmi</th>\n      <th>stroke</th>\n      <th>work_type_Never_worked</th>\n      <th>work_type_Private</th>\n      <th>work_type_Self-employed</th>\n      <th>work_type_children</th>\n      <th>smoking_level</th>\n    </tr>\n  </thead>\n  <tbody>\n    <tr>\n      <th>0</th>\n      <td>56841</td>\n      <td>0</td>\n      <td>58.0</td>\n      <td>0</td>\n      <td>1</td>\n      <td>1</td>\n      <td>0</td>\n      <td>240.589996</td>\n      <td>31.400000</td>\n      <td>1</td>\n      <td>0</td>\n      <td>1</td>\n      <td>0</td>\n      <td>0</td>\n      <td>1.0</td>\n    </tr>\n    <tr>\n      <th>1</th>\n      <td>18937</td>\n      <td>0</td>\n      <td>79.0</td>\n      <td>0</td>\n      <td>0</td>\n      <td>1</td>\n      <td>0</td>\n      <td>114.769997</td>\n      <td>23.252823</td>\n      <td>1</td>\n      <td>0</td>\n      <td>1</td>\n      <td>0</td>\n      <td>0</td>\n      <td>0.5</td>\n    </tr>\n    <tr>\n      <th>2</th>\n      <td>16523</td>\n      <td>1</td>\n      <td>8.0</td>\n      <td>0</td>\n      <td>0</td>\n      <td>0</td>\n      <td>1</td>\n      <td>110.889999</td>\n      <td>17.600000</td>\n      <td>0</td>\n      <td>0</td>\n      <td>1</td>\n      <td>0</td>\n      <td>0</td>\n      <td>0.2</td>\n    </tr>\n    <tr>\n      <th>3</th>\n      <td>69673</td>\n      <td>1</td>\n      <td>76.0</td>\n      <td>0</td>\n      <td>0</td>\n      <td>1</td>\n      <td>1</td>\n      <td>96.290001</td>\n      <td>25.400000</td>\n      <td>0</td>\n      <td>0</td>\n      <td>0</td>\n      <td>0</td>\n      <td>0</td>\n      <td>1.0</td>\n    </tr>\n    <tr>\n      <th>4</th>\n      <td>39399</td>\n      <td>1</td>\n      <td>32.0</td>\n      <td>0</td>\n      <td>0</td>\n      <td>0</td>\n      <td>1</td>\n      <td>65.300003</td>\n      <td>40.400002</td>\n      <td>0</td>\n      <td>0</td>\n      <td>0</td>\n      <td>1</td>\n      <td>0</td>\n      <td>0.0</td>\n    </tr>\n  </tbody>\n</table>\n</div>",
       "datasetInfos": [],
       "metadata": {},
       "removedWidgets": [],
       "textData": null,
       "type": "htmlSandbox"
      }
     },
     "output_type": "display_data"
    }
   ],
   "source": [
    "pandas_clean_data.head()"
   ]
  },
  {
   "cell_type": "code",
   "execution_count": 0,
   "metadata": {
    "application/vnd.databricks.v1+cell": {
     "cellMetadata": {
      "byteLimit": 2048000,
      "rowLimit": 10000
     },
     "inputWidgets": {},
     "nuid": "187f8004-27d3-4a13-955b-50f8c069cf29",
     "showTitle": true,
     "title": "Ingesting clean data"
    }
   },
   "outputs": [],
   "source": [
    "#LOADING Clean data \n",
    "from pyspark.sql.types import StructType,StructField, StringType, IntegerType\n",
    "\n",
    "#Converting work type column to avoid issues when converting Pandas dataframe to Spark \n",
    "pandas_clean_data[\"work_type_Never_worked\"] = pandas_clean_data[\"work_type_Never_worked\"].astype(int)\n",
    "pandas_clean_data[\"work_type_Private\"] = pandas_clean_data[\"work_type_Private\"].astype(int)\n",
    "pandas_clean_data[\"work_type_Self-employed\"] = pandas_clean_data[\"work_type_Self-employed\"].astype(int)\n",
    "pandas_clean_data[\"work_type_children\"] = pandas_clean_data[\"work_type_children\"].astype(int)\n",
    "\n",
    "healthcare_data_clean = spark.createDataFrame(pandas_clean_data)\n",
    "\n",
    "# Permanent Save \n",
    "permanent_table_name = \"fact_healthcare_clean\"\n",
    "\n",
    "#Dropping previous version of the table\n",
    "spark.sql(\"DROP TABLE IF EXISTS spark_catalog.default.fact_healthcare_clean\")\n",
    "#Spark doesn't remove the underlying parquet file. This has to be done manually\n",
    "dbutils.fs.rm(\"dbfs:/user/hive/warehouse/fact_healthcare_clean\", True)\n",
    "\n",
    "healthcare_data_clean.write.mode(\"overwrite\").format(\"parquet\").saveAsTable(permanent_table_name)"
   ]
  }
 ],
 "metadata": {
  "application/vnd.databricks.v1+notebook": {
   "dashboards": [
    {
     "elements": [
      {
       "dashboardResultIndex": null,
       "elementNUID": "b5f66379-6f7f-42ec-8e82-d0e0926a1721",
       "elementType": "command",
       "guid": "457fb6fd-ae6b-4fc3-8c35-815131aab02b",
       "options": null,
       "position": {
        "height": 6,
        "width": 12,
        "x": 0,
        "y": 9,
        "z": null
       },
       "resultIndex": null
      },
      {
       "dashboardResultIndex": null,
       "elementNUID": "96816ed7-b08a-4ca3-abb9-f99880c3535d",
       "elementType": "command",
       "guid": "c5d9146f-9f4f-465c-bc90-819b07431e00",
       "options": null,
       "position": {
        "height": 9,
        "width": 12,
        "x": 0,
        "y": 0,
        "z": null
       },
       "resultIndex": null
      }
     ],
     "globalVars": {},
     "guid": "",
     "layoutOption": {
      "grid": true,
      "stack": true
     },
     "nuid": "0f16e119-5a61-48f5-b992-1705e8235281",
     "origId": 0,
     "title": "Untitled",
     "version": "DashboardViewV1",
     "width": 1024
    },
    {
     "elements": [
      {
       "dashboardResultIndex": null,
       "elementNUID": "b57a48f9-83d8-488b-bece-7a9457a089c2",
       "elementType": "command",
       "guid": "bcb9aade-3b9e-4d2c-b25c-bee1e7fd60e6",
       "options": {
        "autoScaleImg": false,
        "scale": 0,
        "showTitle": true,
        "title": "Event Frequency",
        "titleAlign": "center"
       },
       "position": {
        "height": 7,
        "width": 9,
        "x": 0,
        "y": 0,
        "z": null
       },
       "resultIndex": null
      }
     ],
     "globalVars": {},
     "guid": "",
     "layoutOption": {
      "grid": true,
      "stack": true
     },
     "nuid": "8e72b636-61a7-4ba9-af48-b5794d157ca2",
     "origId": 0,
     "title": "Heart Attack Analysis",
     "version": "DashboardViewV1",
     "width": 1024
    },
    {
     "elements": [],
     "globalVars": {},
     "guid": "",
     "layoutOption": {
      "grid": true,
      "stack": true
     },
     "nuid": "36684154-c303-46c4-b2ee-b995f4843fe4",
     "origId": 0,
     "title": "Untitled",
     "version": "DashboardViewV1",
     "width": 1024
    }
   ],
   "language": "python",
   "notebookMetadata": {
    "mostRecentlyExecutedCommandWithImplicitDF": {
     "commandId": 672314515172192,
     "dataframes": [
      "_sqldf"
     ]
    },
    "pythonIndentUnit": 2
   },
   "notebookName": "Heart Attack Analysis - ETL",
   "widgets": {}
  }
 },
 "nbformat": 4,
 "nbformat_minor": 0
}
